{
 "cells": [
  {
   "cell_type": "code",
   "execution_count": 1,
   "id": "2c6a43e8-fac1-4534-9b0e-f952fc16e17c",
   "metadata": {},
   "outputs": [],
   "source": [
    "from langchain import hub\n",
    "from langchain.agents import AgentExecutor, create_react_agent, load_tools\n",
    "from langchain_openai import ChatOpenAI\n",
    "\n",
    "from mikkel_secrets import secrets\n",
    "import os"
   ]
  },
  {
   "cell_type": "code",
   "execution_count": 3,
   "id": "bc0f5eed-2f01-47c0-9737-f97d9d912273",
   "metadata": {},
   "outputs": [],
   "source": [
    "# Load secrets. I've created a dummy file to hide them.\n",
    "os.environ[\"OPENAI_API_KEY\"] = secrets[\"openai\"][\"token\"]\n",
    "os.environ[\"SERPAPI_API_KEY\"] = secrets[\"serpapi\"][\"token\"]\n",
    "\n",
    "# Initialize LLM & tools\n",
    "llm = ChatOpenAI(temperature=0)\n",
    "prompt = hub.pull(\"hwchase17/react\")\n",
    "tools = load_tools([\"serpapi\"], llm=llm)"
   ]
  },
  {
   "cell_type": "code",
   "execution_count": 4,
   "id": "2a3a11bf-7406-4479-8996-7ccaf4c4a9e7",
   "metadata": {},
   "outputs": [],
   "source": [
    "# Message to ask the LLM\n",
    "message = {\"input\": \"What are the latest news related to Børsen in Denmark?\"}"
   ]
  },
  {
   "cell_type": "code",
   "execution_count": 7,
   "id": "d0b30af7-aa3f-4f03-af8a-d964a737475b",
   "metadata": {},
   "outputs": [
    {
     "data": {
      "text/plain": [
       "AIMessage(content='I am an AI language model and I do not have real-time information. For the latest news related to Børsen in Denmark, I recommend checking their official website or a reliable news source for the most up-to-date information.', response_metadata={'token_usage': {'completion_tokens': 47, 'prompt_tokens': 21, 'total_tokens': 68}, 'model_name': 'gpt-3.5-turbo', 'system_fingerprint': 'fp_c2295e73ad', 'finish_reason': 'stop', 'logprobs': None}, id='run-7d5657f1-d07a-41f6-a771-e6cfdd029c49-0')"
      ]
     },
     "execution_count": 7,
     "metadata": {},
     "output_type": "execute_result"
    }
   ],
   "source": [
    "llm.invoke(message[\"input\"])"
   ]
  },
  {
   "cell_type": "code",
   "execution_count": 8,
   "id": "f5afe7b7-7f79-4849-99fd-712db3f37394",
   "metadata": {},
   "outputs": [
    {
     "data": {
      "text/plain": [
       "{'input': 'What are the latest news related to Børsen in Denmark?',\n",
       " 'output': 'The latest news related to Børsen in Denmark is that the historic stock exchange building caught fire.'}"
      ]
     },
     "execution_count": 8,
     "metadata": {},
     "output_type": "execute_result"
    }
   ],
   "source": [
    "# Create an agent that allows the LLM to search the web\n",
    "agent = create_react_agent(\n",
    "    llm,\n",
    "    tools,\n",
    "    prompt\n",
    ")\n",
    "\n",
    "agent_executor = AgentExecutor(agent=agent, tools=tools, handle_parsing_errors=True) #, verbose=True)\n",
    "\n",
    "agent_executor.invoke({\"input\": \"What are the latest news related to Børsen in Denmark?\"})"
   ]
  },
  {
   "cell_type": "code",
   "execution_count": null,
   "id": "4ed8835a-a075-41d7-92d9-24068bc8bfd0",
   "metadata": {},
   "outputs": [],
   "source": []
  }
 ],
 "metadata": {
  "kernelspec": {
   "display_name": "Python 3 (ipykernel)",
   "language": "python",
   "name": "python3"
  },
  "language_info": {
   "codemirror_mode": {
    "name": "ipython",
    "version": 3
   },
   "file_extension": ".py",
   "mimetype": "text/x-python",
   "name": "python",
   "nbconvert_exporter": "python",
   "pygments_lexer": "ipython3",
   "version": "3.10.12"
  }
 },
 "nbformat": 4,
 "nbformat_minor": 5
}
